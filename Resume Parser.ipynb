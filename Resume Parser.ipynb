{
 "cells": [
  {
   "cell_type": "code",
   "execution_count": 1,
   "metadata": {},
   "outputs": [
    {
     "name": "stdout",
     "output_type": "stream",
     "text": [
      "Collecting pyresparser\n",
      "  Downloading https://files.pythonhosted.org/packages/be/1c/0b84af1e9b9f5236c9a7f3e7bd306a4cb5c71eef15cc27ed343a3ceb5996/pyresparser-1.0.6-py3-none-any.whl (4.2MB)\n",
      "Requirement already satisfied: sortedcontainers>=2.1.0 in c:\\programdata\\anaconda3\\lib\\site-packages (from pyresparser) (2.1.0)\n",
      "Requirement already satisfied: attrs>=19.1.0 in c:\\programdata\\anaconda3\\lib\\site-packages (from pyresparser) (19.2.0)\n",
      "Requirement already satisfied: jsonschema>=3.0.1 in c:\\programdata\\anaconda3\\lib\\site-packages (from pyresparser) (3.0.2)\n",
      "Requirement already satisfied: pdfminer.six>=20181108 in c:\\programdata\\anaconda3\\lib\\site-packages (from pyresparser) (20200124)\n",
      "Requirement already satisfied: cymem>=2.0.2 in c:\\programdata\\anaconda3\\lib\\site-packages (from pyresparser) (2.0.3)\n",
      "Requirement already satisfied: pytz>=2019.1 in c:\\programdata\\anaconda3\\lib\\site-packages (from pyresparser) (2019.3)\n",
      "Requirement already satisfied: pycryptodome>=3.8.2 in c:\\programdata\\anaconda3\\lib\\site-packages (from pyresparser) (3.9.7)\n",
      "Requirement already satisfied: spacy>=2.1.4 in c:\\programdata\\anaconda3\\lib\\site-packages (from pyresparser) (2.2.3)\n",
      "Requirement already satisfied: thinc>=7.0.4 in c:\\programdata\\anaconda3\\lib\\site-packages (from pyresparser) (7.3.1)\n",
      "Requirement already satisfied: pyrsistent>=0.15.2 in c:\\programdata\\anaconda3\\lib\\site-packages (from pyresparser) (0.15.4)\n",
      "Requirement already satisfied: requests>=2.22.0 in c:\\programdata\\anaconda3\\lib\\site-packages (from pyresparser) (2.22.0)\n",
      "Requirement already satisfied: idna>=2.8 in c:\\programdata\\anaconda3\\lib\\site-packages (from pyresparser) (2.8)\n",
      "Requirement already satisfied: chardet>=3.0.4 in c:\\programdata\\anaconda3\\lib\\site-packages (from pyresparser) (3.0.4)\n",
      "Requirement already satisfied: preshed>=2.0.1 in c:\\programdata\\anaconda3\\lib\\site-packages (from pyresparser) (3.0.2)\n",
      "Requirement already satisfied: numpy>=1.16.4 in c:\\programdata\\anaconda3\\lib\\site-packages (from pyresparser) (1.16.5)\n",
      "Requirement already satisfied: python-dateutil>=2.8.0 in c:\\programdata\\anaconda3\\lib\\site-packages (from pyresparser) (2.8.0)\n",
      "Requirement already satisfied: six>=1.12.0 in c:\\programdata\\anaconda3\\lib\\site-packages (from pyresparser) (1.12.0)\n",
      "Requirement already satisfied: wasabi>=0.2.2 in c:\\programdata\\anaconda3\\lib\\site-packages (from pyresparser) (0.6.0)\n",
      "Requirement already satisfied: docx2txt>=0.7 in c:\\programdata\\anaconda3\\lib\\site-packages (from pyresparser) (0.8)\n",
      "Requirement already satisfied: certifi>=2019.6.16 in c:\\programdata\\anaconda3\\lib\\site-packages (from pyresparser) (2019.9.11)\n",
      "Requirement already satisfied: tqdm>=4.32.2 in c:\\programdata\\anaconda3\\lib\\site-packages (from pyresparser) (4.36.1)\n",
      "Requirement already satisfied: srsly>=0.0.7 in c:\\programdata\\anaconda3\\lib\\site-packages (from pyresparser) (1.0.2)\n",
      "Requirement already satisfied: blis>=0.2.4 in c:\\programdata\\anaconda3\\lib\\site-packages (from pyresparser) (0.4.1)\n",
      "Requirement already satisfied: nltk>=3.4.3 in c:\\programdata\\anaconda3\\lib\\site-packages (from pyresparser) (3.5)\n",
      "Requirement already satisfied: pandas>=0.24.2 in c:\\programdata\\anaconda3\\lib\\site-packages (from pyresparser) (0.25.1)\n",
      "Collecting urllib3>=1.25.3 (from pyresparser)\n",
      "  Downloading https://files.pythonhosted.org/packages/9f/f0/a391d1463ebb1b233795cabfc0ef38d3db4442339de68f847026199e69d7/urllib3-1.25.10-py2.py3-none-any.whl (127kB)\n",
      "Requirement already satisfied: setuptools in c:\\programdata\\anaconda3\\lib\\site-packages (from jsonschema>=3.0.1->pyresparser) (41.4.0)\n",
      "Requirement already satisfied: murmurhash<1.1.0,>=0.28.0 in c:\\programdata\\anaconda3\\lib\\site-packages (from spacy>=2.1.4->pyresparser) (1.0.2)\n",
      "Requirement already satisfied: plac<1.2.0,>=0.9.6 in c:\\programdata\\anaconda3\\lib\\site-packages (from spacy>=2.1.4->pyresparser) (1.1.3)\n",
      "Requirement already satisfied: catalogue<1.1.0,>=0.0.7 in c:\\programdata\\anaconda3\\lib\\site-packages (from spacy>=2.1.4->pyresparser) (1.0.0)\n",
      "Requirement already satisfied: click in c:\\programdata\\anaconda3\\lib\\site-packages (from nltk>=3.4.3->pyresparser) (7.0)\n",
      "Requirement already satisfied: joblib in c:\\programdata\\anaconda3\\lib\\site-packages (from nltk>=3.4.3->pyresparser) (0.13.2)\n",
      "Requirement already satisfied: regex in c:\\programdata\\anaconda3\\lib\\site-packages (from nltk>=3.4.3->pyresparser) (2020.10.11)\n",
      "Requirement already satisfied: importlib-metadata>=0.20; python_version < \"3.8\" in c:\\programdata\\anaconda3\\lib\\site-packages (from catalogue<1.1.0,>=0.0.7->spacy>=2.1.4->pyresparser) (0.23)\n",
      "Requirement already satisfied: zipp>=0.5 in c:\\programdata\\anaconda3\\lib\\site-packages (from importlib-metadata>=0.20; python_version < \"3.8\"->catalogue<1.1.0,>=0.0.7->spacy>=2.1.4->pyresparser) (0.6.0)\n",
      "Requirement already satisfied: more-itertools in c:\\programdata\\anaconda3\\lib\\site-packages (from zipp>=0.5->importlib-metadata>=0.20; python_version < \"3.8\"->catalogue<1.1.0,>=0.0.7->spacy>=2.1.4->pyresparser) (7.2.0)\n",
      "Installing collected packages: urllib3, pyresparser\n",
      "  Found existing installation: urllib3 1.24.2\n",
      "    Uninstalling urllib3-1.24.2:\n",
      "      Successfully uninstalled urllib3-1.24.2\n",
      "Successfully installed pyresparser-1.0.6 urllib3-1.25.10\n",
      "Note: you may need to restart the kernel to use updated packages.\n"
     ]
    },
    {
     "name": "stderr",
     "output_type": "stream",
     "text": [
      "ERROR: py2neo 4.3.0 has requirement urllib3<1.25,>=1.23, but you'll have urllib3 1.25.10 which is incompatible.\n"
     ]
    }
   ],
   "source": [
    "pip install pyresparser"
   ]
  },
  {
   "cell_type": "code",
   "execution_count": 1,
   "metadata": {},
   "outputs": [],
   "source": [
    "from pyresparser import ResumeParser"
   ]
  },
  {
   "cell_type": "code",
   "execution_count": 3,
   "metadata": {},
   "outputs": [],
   "source": [
    "data = ResumeParser('Aaina_Musthafa_245102060.pdf').get_extracted_data()"
   ]
  },
  {
   "cell_type": "code",
   "execution_count": 4,
   "metadata": {},
   "outputs": [
    {
     "data": {
      "text/plain": [
       "{'name': 'Contact Number',\n",
       " 'email': 'aainamusthafa@gmail.com',\n",
       " 'mobile_number': '971 5532780',\n",
       " 'skills': ['Analyze',\n",
       "  'Engineering',\n",
       "  'Architecture',\n",
       "  'Safety',\n",
       "  'Communication',\n",
       "  'Adobe',\n",
       "  'Construction',\n",
       "  'Investigations',\n",
       "  'Supervising',\n",
       "  'Visio',\n",
       "  'English',\n",
       "  'Compliance',\n",
       "  'Design',\n",
       "  'Policies',\n",
       "  'Budget',\n",
       "  'Photoshop',\n",
       "  'Operations',\n",
       "  'Quality control',\n",
       "  'Autocad',\n",
       "  'System',\n",
       "  'Email',\n",
       "  'Specifications',\n",
       "  'Plan',\n",
       "  'Iso',\n",
       "  'Schedule',\n",
       "  'Health',\n",
       "  'Analysis'],\n",
       " 'college_name': None,\n",
       " 'degree': None,\n",
       " 'designation': None,\n",
       " 'experience': ['SPACEMAX INTERIORS: Oct 2016 – Present',\n",
       "  'Civil design Engineer:',\n",
       "  'One of the renowned architecture and interior design practice in the Middle East that adapt and',\n",
       "  'respond to the context of each project to create intelligent and enduring architecture. A company',\n",
       "  'where  evolve  as  an  architectural  practice,  always  striving  to  find  new  solutions  to  traditional',\n",
       "  'challenges and to provide the best possible service to clients and the community. Space max aim'],\n",
       " 'company_names': None,\n",
       " 'no_of_pages': 3,\n",
       " 'total_experience': 4.0}"
      ]
     },
     "execution_count": 4,
     "metadata": {},
     "output_type": "execute_result"
    }
   ],
   "source": [
    "data"
   ]
  },
  {
   "cell_type": "code",
   "execution_count": 5,
   "metadata": {},
   "outputs": [],
   "source": [
    "data_1 = ResumeParser('_ShoaibAli_245102060.pdf').get_extracted_data()"
   ]
  },
  {
   "cell_type": "code",
   "execution_count": 6,
   "metadata": {},
   "outputs": [
    {
     "data": {
      "text/plain": [
       "{'name': 'bAli Experienc',\n",
       " 'email': 'balikhan@g',\n",
       " 'mobile_number': None,\n",
       " 'skills': ['Requests',\n",
       "  'Windows',\n",
       "  'Pr',\n",
       "  'Technical',\n",
       "  'Analyze',\n",
       "  'Hospital',\n",
       "  'Engineering',\n",
       "  'Architecture',\n",
       "  'Flex',\n",
       "  'Consulting',\n",
       "  'Access',\n",
       "  'Cement',\n",
       "  'Construction',\n",
       "  'P',\n",
       "  'Design',\n",
       "  'Queries',\n",
       "  'Warehouse',\n",
       "  'International',\n",
       "  'R',\n",
       "  'Pivot',\n",
       "  'Operations',\n",
       "  'Sap',\n",
       "  'Hotel',\n",
       "  'Tv',\n",
       "  'System',\n",
       "  'Specifications',\n",
       "  'Moment',\n",
       "  'Responses',\n",
       "  'Orange',\n",
       "  'C',\n",
       "  'Cad',\n",
       "  'Fabrication',\n",
       "  'Analysis',\n",
       "  'Reports',\n",
       "  'Regulatory'],\n",
       " 'college_name': None,\n",
       " 'degree': ['Bachelors in Engineering | Civil Engineering06/2011'],\n",
       " 'designation': None,\n",
       " 'experience': None,\n",
       " 'company_names': None,\n",
       " 'no_of_pages': 13,\n",
       " 'total_experience': 0}"
      ]
     },
     "execution_count": 6,
     "metadata": {},
     "output_type": "execute_result"
    }
   ],
   "source": [
    "data_1"
   ]
  },
  {
   "cell_type": "code",
   "execution_count": null,
   "metadata": {},
   "outputs": [],
   "source": []
  }
 ],
 "metadata": {
  "kernelspec": {
   "display_name": "Python 3",
   "language": "python",
   "name": "python3"
  },
  "language_info": {
   "codemirror_mode": {
    "name": "ipython",
    "version": 3
   },
   "file_extension": ".py",
   "mimetype": "text/x-python",
   "name": "python",
   "nbconvert_exporter": "python",
   "pygments_lexer": "ipython3",
   "version": "3.7.4"
  }
 },
 "nbformat": 4,
 "nbformat_minor": 2
}
